{
 "cells": [
  {
   "cell_type": "markdown",
   "id": "2a6e576b",
   "metadata": {},
   "source": [
    "# What's happening here?"
   ]
  },
  {
   "cell_type": "markdown",
   "id": "fd0f4d3e",
   "metadata": {},
   "source": [
    "This is a playground notebook for testing different ways to manipulate images. This can be used to further augment the limited pool of training data that was scraped from the web.\n",
    "\n",
    "\n",
    "Feel free to investigate, experiment and improve!"
   ]
  },
  {
   "cell_type": "markdown",
   "id": "68dbf2d9",
   "metadata": {},
   "source": [
    "# Start coding"
   ]
  },
  {
   "cell_type": "markdown",
   "id": "7be65fa6",
   "metadata": {},
   "source": [
    "## Import modules"
   ]
  },
  {
   "cell_type": "code",
   "execution_count": 1,
   "id": "4ddca189",
   "metadata": {
    "ExecuteTime": {
     "end_time": "2021-08-03T09:35:44.278683Z",
     "start_time": "2021-08-03T09:35:43.522096Z"
    }
   },
   "outputs": [],
   "source": [
    "import os\n",
    "import cv2\n",
    "import matplotlib.pyplot as plt"
   ]
  },
  {
   "cell_type": "markdown",
   "id": "28d7094f",
   "metadata": {},
   "source": [
    "## Create some folders\n",
    "Let's create a few folders in case they aren't there yet.\n",
    "\n",
    "* `src-img` source images folder.\n",
    "* `dest-img` image destination folder."
   ]
  },
  {
   "cell_type": "code",
   "execution_count": 248,
   "id": "f175e8fe",
   "metadata": {
    "ExecuteTime": {
     "end_time": "2021-08-03T15:20:13.853926Z",
     "start_time": "2021-08-03T15:20:13.606808Z"
    }
   },
   "outputs": [],
   "source": [
    "!mkdir -p ../src-img\n",
    "!mkdir -p ../dest-img"
   ]
  },
  {
   "cell_type": "markdown",
   "id": "49c962e2",
   "metadata": {},
   "source": [
    "## Populate the `src-img` folder with images"
   ]
  },
  {
   "cell_type": "markdown",
   "id": "f2ec79ae",
   "metadata": {},
   "source": [
    "## Read image file paths"
   ]
  },
  {
   "cell_type": "code",
   "execution_count": 142,
   "id": "bea607d2",
   "metadata": {
    "ExecuteTime": {
     "end_time": "2021-08-03T12:30:50.691246Z",
     "start_time": "2021-08-03T12:30:50.687797Z"
    }
   },
   "outputs": [],
   "source": [
    "src_img_dir = os.path.join('..', 'src-img')\n",
    "src_img_list = os.listdir(src_img_dir)\n",
    "src_img_paths = sorted([os.path.join(src_img_dir, x) for x in src_img_list])"
   ]
  },
  {
   "cell_type": "markdown",
   "id": "3aa744d3",
   "metadata": {},
   "source": [
    "## Function definitions"
   ]
  },
  {
   "cell_type": "markdown",
   "id": "2ef5f72f",
   "metadata": {},
   "source": [
    "### Base image manipulation functions"
   ]
  },
  {
   "cell_type": "code",
   "execution_count": 6,
   "id": "ed2552db",
   "metadata": {},
   "outputs": [],
   "source": [
    "path = '/home/leesalem/code/AliSalem2/data-challenges/06-Deep-Learning/03-Convolutional-Neural-Networks/05-Autoencoder/data/Abstract_gallery'\n",
    "os.getcwd()\n",
    "img_list = os.listdir(path)"
   ]
  },
  {
   "cell_type": "code",
   "execution_count": 13,
   "id": "4d1083ed",
   "metadata": {},
   "outputs": [
    {
     "data": {
      "text/plain": [
       "'Abstract_image_402.jpg'"
      ]
     },
     "execution_count": 13,
     "metadata": {},
     "output_type": "execute_result"
    }
   ],
   "source": [
    "img_list[30]\n",
    "\n"
   ]
  },
  {
   "cell_type": "code",
   "execution_count": 9,
   "id": "e473f475",
   "metadata": {
    "ExecuteTime": {
     "end_time": "2021-08-03T12:07:31.032736Z",
     "start_time": "2021-08-03T12:07:31.026828Z"
    }
   },
   "outputs": [],
   "source": [
    "def read_image(image_path):\n",
    "    \"\"\"Load an image from it's path and return an image object\"\"\"\n",
    "    return cv2.imread(image_path)\n",
    "\n",
    "def rotate_image(img, angle):\n",
    "    \"\"\"Rotate an image by a certain angle\"\"\"\n",
    "    h, w = img.shape[:2]\n",
    "    \n",
    "    # Define rotation center (center of image)\n",
    "    c_x, c_y = w/2, h/2\n",
    "    # Define rotation matrix with X degrees of rotation\n",
    "    rotation_matrix = cv2.getRotationMatrix2D((c_x, c_y), angle, 1.0)\n",
    "\n",
    "    # Rotate the image\n",
    "    rotated = cv2.warpAffine(img, rotation_matrix, (w, h))\n",
    "    return rotated\n",
    "\n",
    "def rotate_image_fixed_angles(img):\n",
    "    \"\"\"Rotate an image by 90, 180 and 270 degrees.\n",
    "    Returns a list of the rotated images and a list of angles.\"\"\"\n",
    "    rotated_images = []\n",
    "    angles = []\n",
    "    \n",
    "    # rotate 90\n",
    "    img_90 = cv2.transpose(img)\n",
    "    img_90 = cv2.flip(img_90, 1)\n",
    "    rotated_images.append(img_90)\n",
    "    angles.append(90)\n",
    "\n",
    "    # rotate 180\n",
    "    img_180 = cv2.flip(img, -1)\n",
    "    rotated_images.append(img_180)\n",
    "    angles.append(180)\n",
    "\n",
    "    # rotate 270\n",
    "    img_270 = cv2.transpose(img)\n",
    "    img_270 = cv2.flip(img_270, 0)\n",
    "    rotated_images.append(img_270)\n",
    "    angles.append(270)\n",
    "    \n",
    "    return rotated_images, angles\n",
    "\n",
    "def scale_image(img, factor, interpolation):\n",
    "    \"\"\"Scale an image\"\"\"\n",
    "    h, w = img.shape[:2]\n",
    "    return cv2.resize(img, (int(w*factor), int(h*factor)), interpolation)\n",
    "\n",
    "def crop_image(img, x1, x2, y1, y2):\n",
    "    \"\"\"Crop an image.\n",
    "    Provide X and Y bounds.\n",
    "    y2 > y1 and x2 > x1.\"\"\"\n",
    "    return img[int(y1):int(y2), int(x1):int(x2)]"
   ]
  },
  {
   "cell_type": "markdown",
   "id": "e58623ea",
   "metadata": {},
   "source": [
    "### Save image function"
   ]
  },
  {
   "cell_type": "code",
   "execution_count": 10,
   "id": "58dd08f8",
   "metadata": {
    "ExecuteTime": {
     "end_time": "2021-08-03T11:54:24.840817Z",
     "start_time": "2021-08-03T11:54:24.838239Z"
    }
   },
   "outputs": [],
   "source": [
    "def save_image(img, filepath, colorspace):\n",
    "    \"\"\"Save an image object to the harddrive\"\"\"\n",
    "    plt.imsave(filepath, cv2.cvtColor(img, colorspace))"
   ]
  },
  {
   "cell_type": "markdown",
   "id": "459649c6",
   "metadata": {},
   "source": [
    "## Functions demo"
   ]
  },
  {
   "cell_type": "markdown",
   "id": "1b9e2d8a",
   "metadata": {},
   "source": [
    "### Read source images, rotate them in 90 degree increments, save to disc"
   ]
  },
  {
   "cell_type": "code",
   "execution_count": 180,
   "id": "c2acfbff",
   "metadata": {
    "ExecuteTime": {
     "end_time": "2021-08-03T14:07:32.598409Z",
     "start_time": "2021-08-03T14:07:32.294696Z"
    }
   },
   "outputs": [],
   "source": [
    "# Save rotated images here\n",
    "destination_folder = os.path.join('..', 'dest-img')\n",
    "target_colorspace = cv2.COLOR_BGR2RGB\n",
    "\n",
    "# Read each image from it's path\n",
    "for src_img in src_img_paths:\n",
    "    img = read_image(src_img)\n",
    "    # Rotate images in 90 degree increments\n",
    "    rotated_imgs = rotate_image_fixed_angles(img)\n",
    "    \n",
    "    # Save rotated images to destination folder on disc\n",
    "    for i, rot_img in enumerate(rotated_imgs[0]):\n",
    "        split = os.path.splitext(os.path.basename(src_img))\n",
    "        basename = split[0]\n",
    "        ext = split[1]\n",
    "        angle = rotated_imgs[1][i]\n",
    "        save_image(rot_img, os.path.join(destination_folder, f'{basename}_{angle}{ext}'), target_colorspace)\n",
    "    \n",
    "    # Copy original image to destination folder\n",
    "    save_image(img, os.path.join(destination_folder, f'{basename}{ext}'), target_colorspace)"
   ]
  },
  {
   "cell_type": "markdown",
   "id": "1754ec6e",
   "metadata": {},
   "source": [
    "### Load an image, rotate it and zoom in"
   ]
  },
  {
   "cell_type": "code",
   "execution_count": 12,
   "id": "5efec872",
   "metadata": {},
   "outputs": [],
   "source": [
    "img\n"
   ]
  },
  {
   "cell_type": "code",
   "execution_count": 11,
   "id": "91a76d96",
   "metadata": {
    "ExecuteTime": {
     "end_time": "2021-08-03T15:06:14.545876Z",
     "start_time": "2021-08-03T15:06:14.393417Z"
    }
   },
   "outputs": [
    {
     "ename": "AttributeError",
     "evalue": "'NoneType' object has no attribute 'shape'",
     "output_type": "error",
     "traceback": [
      "\u001b[0;31m---------------------------------------------------------------------------\u001b[0m",
      "\u001b[0;31mAttributeError\u001b[0m                            Traceback (most recent call last)",
      "\u001b[0;32m<ipython-input-11-e0e3dc880b5a>\u001b[0m in \u001b[0;36m<module>\u001b[0;34m\u001b[0m\n\u001b[1;32m      2\u001b[0m \u001b[0mimg\u001b[0m \u001b[0;34m=\u001b[0m \u001b[0mread_image\u001b[0m\u001b[0;34m(\u001b[0m\u001b[0mimg_list\u001b[0m\u001b[0;34m[\u001b[0m\u001b[0;36m30\u001b[0m\u001b[0;34m]\u001b[0m\u001b[0;34m)\u001b[0m\u001b[0;34m\u001b[0m\u001b[0;34m\u001b[0m\u001b[0m\n\u001b[1;32m      3\u001b[0m \u001b[0;31m# Store original image dimensions\u001b[0m\u001b[0;34m\u001b[0m\u001b[0;34m\u001b[0m\u001b[0;34m\u001b[0m\u001b[0m\n\u001b[0;32m----> 4\u001b[0;31m \u001b[0mh\u001b[0m\u001b[0;34m,\u001b[0m \u001b[0mw\u001b[0m \u001b[0;34m=\u001b[0m \u001b[0mimg\u001b[0m\u001b[0;34m.\u001b[0m\u001b[0mshape\u001b[0m\u001b[0;34m[\u001b[0m\u001b[0;34m:\u001b[0m\u001b[0;36m2\u001b[0m\u001b[0;34m]\u001b[0m\u001b[0;34m\u001b[0m\u001b[0;34m\u001b[0m\u001b[0m\n\u001b[0m\u001b[1;32m      5\u001b[0m \u001b[0;31m# Rotate the image\u001b[0m\u001b[0;34m\u001b[0m\u001b[0;34m\u001b[0m\u001b[0;34m\u001b[0m\u001b[0m\n\u001b[1;32m      6\u001b[0m \u001b[0mimg_obj\u001b[0m \u001b[0;34m=\u001b[0m \u001b[0mrotate_image\u001b[0m\u001b[0;34m(\u001b[0m\u001b[0mimg\u001b[0m\u001b[0;34m,\u001b[0m \u001b[0;36m30\u001b[0m\u001b[0;34m)\u001b[0m\u001b[0;34m\u001b[0m\u001b[0;34m\u001b[0m\u001b[0m\n",
      "\u001b[0;31mAttributeError\u001b[0m: 'NoneType' object has no attribute 'shape'"
     ]
    }
   ],
   "source": [
    "# Read the image\n",
    "img = read_image(src_img_paths[10])\n",
    "# Store original image dimensions\n",
    "h, w = img.shape[:2]\n",
    "# Rotate the image\n",
    "img_obj = rotate_image(img, 30)\n",
    "# Scale the image\n",
    "img_obj = scale_image(img_obj, 1.5, cv2.INTER_CUBIC)\n",
    "# Store transformed image dimensions\n",
    "r_h, r_w = img_obj.shape[:2]\n",
    "\n",
    "# Calculate crop region\n",
    "y1 = (r_h/2)-(h/2)\n",
    "y2 = (r_h/2)+(h/2)\n",
    "x1 = (r_w/2)-(w/2)\n",
    "x2 = (r_w/2)+(w/2)\n",
    "\n",
    "# Crop the image\n",
    "img_obj = crop_image(img_obj, x1, x2, y1, y2)\n",
    "\n",
    "# Show the result\n",
    "plt.subplot(1, 2, 1)\n",
    "plt.imshow(cv2.cvtColor(img, cv2.COLOR_BGR2RGB))\n",
    "\n",
    "plt.subplot(1, 2, 2)\n",
    "plt.imshow(cv2.cvtColor(img_obj, cv2.COLOR_BGR2RGB))\n"
   ]
  },
  {
   "cell_type": "markdown",
   "id": "91884a54",
   "metadata": {},
   "source": [
    "### Random rotate and zoom the source images, save to disc"
   ]
  },
  {
   "cell_type": "code",
   "execution_count": 177,
   "id": "18ee4cc3",
   "metadata": {
    "ExecuteTime": {
     "end_time": "2021-08-03T13:36:56.901552Z",
     "start_time": "2021-08-03T13:36:56.804926Z"
    }
   },
   "outputs": [],
   "source": [
    "import random\n",
    "\n",
    "for src_img in src_img_paths:\n",
    "    # Read the image\n",
    "    img_obj = read_image(src_img)\n",
    "    # Store original image dimensions\n",
    "    h, w = img_obj.shape[:2]\n",
    "    \n",
    "    \n",
    "    # Prepare random rotation by getting a random angle\n",
    "    randrotate = random.randrange(1,359)\n",
    "\n",
    "    # Check if random angle is too close to 90, 180, 270 and 360 degrees.\n",
    "    # If it is, regenerate random number.\n",
    "    while not \\\n",
    "    (randrotate > 10 and randrotate < 80 or \\\n",
    "    randrotate > 100 and randrotate < 170 or \\\n",
    "    randrotate > 190 and randrotate < 260 or \\\n",
    "    randrotate > 280 and randrotate < 350):\n",
    "        randrotate = random.randrange(1,359)\n",
    "    \n",
    "    \n",
    "    # Rotate the image randomly\n",
    "    img_obj = rotate_image(img_obj, randrotate)\n",
    "    # Scale the image randomly\n",
    "    randscale = random.uniform(0.7, 3)\n",
    "    img_obj = scale_image(img_obj, randscale, cv2.INTER_CUBIC)\n",
    "    \n",
    "    # Store transformed image dimensions\n",
    "    r_h, r_w = img_obj.shape[:2]\n",
    "\n",
    "    # Calculate crop region\n",
    "    y1 = (r_h/2)-(h/2)\n",
    "    y2 = (r_h/2)+(h/2)\n",
    "    x1 = (r_w/2)-(w/2)\n",
    "    x2 = (r_w/2)+(w/2)\n",
    "\n",
    "    # Crop the image\n",
    "    img_obj = crop_image(img_obj, x1, x2, y1, y2)\n",
    "    \n",
    "    split = os.path.splitext(os.path.basename(src_img))\n",
    "    basename = split[0]\n",
    "    ext = split[1]        \n",
    "    save_image(img_obj, os.path.join('..', 'dest-img', f'{basename}_{randrotate}{ext}'), cv2.COLOR_BGR2RGB)"
   ]
  },
  {
   "cell_type": "code",
   "execution_count": null,
   "id": "5cfd0a58",
   "metadata": {},
   "outputs": [],
   "source": []
  }
 ],
 "metadata": {
  "hide_input": false,
  "kernelspec": {
   "display_name": "Python 3",
   "language": "python",
   "name": "python3"
  },
  "language_info": {
   "codemirror_mode": {
    "name": "ipython",
    "version": 3
   },
   "file_extension": ".py",
   "mimetype": "text/x-python",
   "name": "python",
   "nbconvert_exporter": "python",
   "pygments_lexer": "ipython3",
   "version": "3.8.6"
  },
  "toc": {
   "base_numbering": 1,
   "nav_menu": {},
   "number_sections": true,
   "sideBar": true,
   "skip_h1_title": false,
   "title_cell": "Table of Contents",
   "title_sidebar": "Contents",
   "toc_cell": false,
   "toc_position": {},
   "toc_section_display": true,
   "toc_window_display": false
  }
 },
 "nbformat": 4,
 "nbformat_minor": 5
}
